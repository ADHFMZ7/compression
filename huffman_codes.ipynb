{
 "cells": [
  {
   "cell_type": "markdown",
   "metadata": {},
   "source": [
    "# Huffman Coding\n",
    "\n",
    "Huffman coding is an algorithm for [lossless data compression](https://en.wikipedia.org/wiki/Lossless_data_compression)\n",
    "\n",
    "This notebook will implement huffman coding to compress the entire works of [William Shakespeare](https://en.wikipedia.org/wiki/William_Shakespeare)."
   ]
  },
  {
   "cell_type": "code",
   "execution_count": 4,
   "metadata": {},
   "outputs": [],
   "source": [
    "with open('shakespeare.txt') as file:\n",
    "    text = \"\"\n",
    "    for i in file:\n",
    "        text+=i"
   ]
  },
  {
   "cell_type": "markdown",
   "metadata": {},
   "source": [
    "This"
   ]
  },
  {
   "cell_type": "code",
   "execution_count": 5,
   "metadata": {},
   "outputs": [],
   "source": [
    "counts = {i : text.count(i) for i in \"abcdefghijklmnopqrstuvwxyz\"}\n",
    "total_letters = sum(counts.values())"
   ]
  },
  {
   "cell_type": "code",
   "execution_count": 6,
   "metadata": {},
   "outputs": [
    {
     "data": {
      "text/plain": [
       "{'a': 244270,\n",
       " 'b': 46457,\n",
       " 'c': 66478,\n",
       " 'd': 133557,\n",
       " 'e': 403878,\n",
       " 'f': 68671,\n",
       " 'g': 56951,\n",
       " 'h': 218200,\n",
       " 'i': 197780,\n",
       " 'j': 2691,\n",
       " 'k': 29179,\n",
       " 'l': 145919,\n",
       " 'm': 95432,\n",
       " 'n': 215562,\n",
       " 'o': 280908,\n",
       " 'p': 46403,\n",
       " 'q': 2400,\n",
       " 'r': 208489,\n",
       " 's': 214680,\n",
       " 't': 289404,\n",
       " 'u': 114637,\n",
       " 'v': 33942,\n",
       " 'w': 72843,\n",
       " 'x': 4620,\n",
       " 'y': 85140,\n",
       " 'z': 1094}"
      ]
     },
     "execution_count": 6,
     "metadata": {},
     "output_type": "execute_result"
    }
   ],
   "source": [
    "counts"
   ]
  },
  {
   "cell_type": "code",
   "execution_count": null,
   "metadata": {},
   "outputs": [],
   "source": []
  }
 ],
 "metadata": {
  "kernelspec": {
   "display_name": "Python 3.9.13 64-bit",
   "language": "python",
   "name": "python3"
  },
  "language_info": {
   "codemirror_mode": {
    "name": "ipython",
    "version": 3
   },
   "file_extension": ".py",
   "mimetype": "text/x-python",
   "name": "python",
   "nbconvert_exporter": "python",
   "pygments_lexer": "ipython3",
   "version": "3.9.13"
  },
  "orig_nbformat": 4,
  "vscode": {
   "interpreter": {
    "hash": "b0fa6594d8f4cbf19f97940f81e996739fb7646882a419484c72d19e05852a7e"
   }
  }
 },
 "nbformat": 4,
 "nbformat_minor": 2
}
